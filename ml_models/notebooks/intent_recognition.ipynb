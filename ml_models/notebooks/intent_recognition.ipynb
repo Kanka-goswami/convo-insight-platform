{
 "cells": [
  {
   "cell_type": "code",
   "execution_count": 20,
   "metadata": {},
   "outputs": [],
   "source": [
    "import sys\n",
    "import tensorflow as tf \n",
    "from tensorflow.keras.preprocessing.text import Tokenizer \n",
    "from tensorflow.keras.preprocessing.sequence import pad_sequences \n",
    "import numpy as np \n",
    "import pandas as pd\n",
    "import random \n",
    "import json \n",
    "\n",
    "import warnings \n",
    "warnings.filterwarnings('ignore')\n"
   ]
  },
  {
   "cell_type": "code",
   "execution_count": 27,
   "metadata": {},
   "outputs": [
    {
     "name": "stdout",
     "output_type": "stream",
     "text": [
      "Python version: 3.8.0 | packaged by conda-forge | (default, Nov 22 2019, 19:04:36) [MSC v.1916 64 bit (AMD64)] \n",
      "Tensorflow version: 2.3.0 \n",
      "Numpy version: 1.18.0 \n",
      "Pandas version: 1.3.5 \n",
      "\n"
     ]
    }
   ],
   "source": [
    "print(\n",
    "    f\"Python version: {sys.version}\", \"\\n\"\n",
    "    f\"Tensorflow version: {tf.__version__}\",\"\\n\"\n",
    "    f\"Numpy version: {np.__version__}\", \"\\n\"\n",
    "    f\"Pandas version: {pd.__version__}\", \"\\n\"\n",
    ")"
   ]
  },
  {
   "cell_type": "code",
   "execution_count": 2,
   "metadata": {},
   "outputs": [],
   "source": [
    "path =\"D:\\Projects\\Learning\\IISC_CDS\\Capstone\\convo-insight-platform\\Datasets\\Conversation.csv\"\n",
    "\n",
    "\n",
    "with open(path, 'r') as f: \n",
    "    conversation = pd.read_csv(f) \n"
   ]
  },
  {
   "cell_type": "code",
   "execution_count": 3,
   "metadata": {},
   "outputs": [
    {
     "data": {
      "text/html": [
       "<div>\n",
       "<style scoped>\n",
       "    .dataframe tbody tr th:only-of-type {\n",
       "        vertical-align: middle;\n",
       "    }\n",
       "\n",
       "    .dataframe tbody tr th {\n",
       "        vertical-align: top;\n",
       "    }\n",
       "\n",
       "    .dataframe thead th {\n",
       "        text-align: right;\n",
       "    }\n",
       "</style>\n",
       "<table border=\"1\" class=\"dataframe\">\n",
       "  <thead>\n",
       "    <tr style=\"text-align: right;\">\n",
       "      <th></th>\n",
       "      <th>Unnamed: 0</th>\n",
       "      <th>question</th>\n",
       "      <th>answer</th>\n",
       "    </tr>\n",
       "  </thead>\n",
       "  <tbody>\n",
       "    <tr>\n",
       "      <th>0</th>\n",
       "      <td>0</td>\n",
       "      <td>hi, how are you doing?</td>\n",
       "      <td>i'm fine. how about yourself?</td>\n",
       "    </tr>\n",
       "    <tr>\n",
       "      <th>1</th>\n",
       "      <td>1</td>\n",
       "      <td>i'm fine. how about yourself?</td>\n",
       "      <td>i'm pretty good. thanks for asking.</td>\n",
       "    </tr>\n",
       "    <tr>\n",
       "      <th>2</th>\n",
       "      <td>2</td>\n",
       "      <td>i'm pretty good. thanks for asking.</td>\n",
       "      <td>no problem. so how have you been?</td>\n",
       "    </tr>\n",
       "    <tr>\n",
       "      <th>3</th>\n",
       "      <td>3</td>\n",
       "      <td>no problem. so how have you been?</td>\n",
       "      <td>i've been great. what about you?</td>\n",
       "    </tr>\n",
       "    <tr>\n",
       "      <th>4</th>\n",
       "      <td>4</td>\n",
       "      <td>i've been great. what about you?</td>\n",
       "      <td>i've been good. i'm in school right now.</td>\n",
       "    </tr>\n",
       "  </tbody>\n",
       "</table>\n",
       "</div>"
      ],
      "text/plain": [
       "   Unnamed: 0                             question  \\\n",
       "0           0               hi, how are you doing?   \n",
       "1           1        i'm fine. how about yourself?   \n",
       "2           2  i'm pretty good. thanks for asking.   \n",
       "3           3    no problem. so how have you been?   \n",
       "4           4     i've been great. what about you?   \n",
       "\n",
       "                                     answer  \n",
       "0             i'm fine. how about yourself?  \n",
       "1       i'm pretty good. thanks for asking.  \n",
       "2         no problem. so how have you been?  \n",
       "3          i've been great. what about you?  \n",
       "4  i've been good. i'm in school right now.  "
      ]
     },
     "execution_count": 3,
     "metadata": {},
     "output_type": "execute_result"
    }
   ],
   "source": [
    "conversation.head()"
   ]
  },
  {
   "cell_type": "code",
   "execution_count": 4,
   "metadata": {},
   "outputs": [
    {
     "name": "stdout",
     "output_type": "stream",
     "text": [
      "Index(['intents'], dtype='object')\n",
      "<class 'pandas.core.series.Series'>\n",
      "22\n",
      "dict_keys(['intent', 'text', 'responses', 'extension', 'context', 'entityType', 'entities'])\n"
     ]
    }
   ],
   "source": [
    "path = \"D:\\Projects\\Learning\\IISC_CDS\\Capstone\\convo-insight-platform\\Datasets\\Intent.json\"\n",
    "with open(path, 'r') as f: \n",
    "    data = pd.read_json(f) \n",
    "  \n",
    "print(data.keys()) \n",
    "print(type(data['intents'])) \n",
    "print(len(data['intents'])) \n",
    "print(data['intents'][0].keys()) \n",
    "#data['intents'][-1]\n"
   ]
  },
  {
   "cell_type": "code",
   "execution_count": 5,
   "metadata": {},
   "outputs": [
    {
     "data": {
      "text/html": [
       "<div>\n",
       "<style scoped>\n",
       "    .dataframe tbody tr th:only-of-type {\n",
       "        vertical-align: middle;\n",
       "    }\n",
       "\n",
       "    .dataframe tbody tr th {\n",
       "        vertical-align: top;\n",
       "    }\n",
       "\n",
       "    .dataframe thead th {\n",
       "        text-align: right;\n",
       "    }\n",
       "</style>\n",
       "<table border=\"1\" class=\"dataframe\">\n",
       "  <thead>\n",
       "    <tr style=\"text-align: right;\">\n",
       "      <th></th>\n",
       "      <th>intents</th>\n",
       "    </tr>\n",
       "  </thead>\n",
       "  <tbody>\n",
       "    <tr>\n",
       "      <th>0</th>\n",
       "      <td>{'intent': 'Greeting', 'text': ['Hi', 'Hi ther...</td>\n",
       "    </tr>\n",
       "    <tr>\n",
       "      <th>1</th>\n",
       "      <td>{'intent': 'GreetingResponse', 'text': ['My us...</td>\n",
       "    </tr>\n",
       "    <tr>\n",
       "      <th>2</th>\n",
       "      <td>{'intent': 'CourtesyGreeting', 'text': ['How a...</td>\n",
       "    </tr>\n",
       "    <tr>\n",
       "      <th>3</th>\n",
       "      <td>{'intent': 'CourtesyGreetingResponse', 'text':...</td>\n",
       "    </tr>\n",
       "    <tr>\n",
       "      <th>4</th>\n",
       "      <td>{'intent': 'CurrentHumanQuery', 'text': ['What...</td>\n",
       "    </tr>\n",
       "  </tbody>\n",
       "</table>\n",
       "</div>"
      ],
      "text/plain": [
       "                                             intents\n",
       "0  {'intent': 'Greeting', 'text': ['Hi', 'Hi ther...\n",
       "1  {'intent': 'GreetingResponse', 'text': ['My us...\n",
       "2  {'intent': 'CourtesyGreeting', 'text': ['How a...\n",
       "3  {'intent': 'CourtesyGreetingResponse', 'text':...\n",
       "4  {'intent': 'CurrentHumanQuery', 'text': ['What..."
      ]
     },
     "execution_count": 5,
     "metadata": {},
     "output_type": "execute_result"
    }
   ],
   "source": [
    "data.head()"
   ]
  },
  {
   "cell_type": "code",
   "execution_count": 6,
   "metadata": {},
   "outputs": [
    {
     "data": {
      "text/plain": [
       "{'intent': 'Greeting',\n",
       " 'text': ['Hi',\n",
       "  'Hi there',\n",
       "  'Hola',\n",
       "  'Hello',\n",
       "  'Hello there',\n",
       "  'Hya',\n",
       "  'Hya there'],\n",
       " 'responses': ['Hi human, please tell me your GeniSys user',\n",
       "  'Hello human, please tell me your GeniSys user',\n",
       "  'Hola human, please tell me your GeniSys user'],\n",
       " 'extension': {'function': '', 'entities': False, 'responses': []},\n",
       " 'context': {'in': '', 'out': 'GreetingUserRequest', 'clear': False},\n",
       " 'entityType': 'NA',\n",
       " 'entities': []}"
      ]
     },
     "execution_count": 6,
     "metadata": {},
     "output_type": "execute_result"
    }
   ],
   "source": [
    "data[\"intents\"][0]"
   ]
  },
  {
   "cell_type": "code",
   "execution_count": 9,
   "metadata": {},
   "outputs": [],
   "source": [
    "def clean(line): \n",
    "    import re\n",
    "    # cleaned_line = '' \n",
    "    # for char in line: \n",
    "    #     if char.isalpha(): \n",
    "    #         cleaned_line += char \n",
    "    #     else: \n",
    "    #         cleaned_line += ' '\n",
    "    cleaned_line = re.sub(r\"\\d+\", \"\", line) #' '.join(cleaned_line.split()) \n",
    "    return cleaned_line"
   ]
  },
  {
   "cell_type": "code",
   "execution_count": 10,
   "metadata": {},
   "outputs": [],
   "source": [
    "#list of intents \n",
    "intents = []\t\t\t\t\t\t\t\t\t\t\t \n",
    "unique_intents = [] \n",
    "#all text data to create a corpus \n",
    "text_input= []\t \n",
    "#dictionary mapping intent with appropriate response \n",
    "response_for_intent = {}\t\t\t\t\t\t\t\t \n",
    "for intent in data['intents']: \n",
    "\t#list of unique intents \n",
    "\tif intent['intent'] not in unique_intents:\t\t\t \n",
    "\t\tunique_intents.append(intent['intent']) \n",
    "\tfor text in intent['text']: \n",
    "\t\t#cleaning is done before adding text to corpus \n",
    "\t\ttext_input.append(clean(text))\t\t\t\t\t \n",
    "\t\tintents.append(intent['intent']) \n",
    "\tif intent['intent'] not in response_for_intent: \n",
    "\t\tresponse_for_intent[intent['intent']] = [] \n",
    "\tfor response in intent['responses']: \n",
    "\t\tresponse_for_intent[intent['intent']].append(response)"
   ]
  },
  {
   "cell_type": "code",
   "execution_count": 11,
   "metadata": {},
   "outputs": [
    {
     "name": "stdout",
     "output_type": "stream",
     "text": [
      "Intent : Greeting\n",
      "Number of Intent: 143\n",
      "Sample Input: Hi\n",
      "Length of text_input: 143\n",
      "Sample Response:  ['Hi human, please tell me your GeniSys user', 'Hello human, please tell me your GeniSys user', 'Hola human, please tell me your GeniSys user']\n"
     ]
    }
   ],
   "source": [
    "print(\"Intent :\",intents[0]) \n",
    "print(\"Number of Intent:\",len(intents)) \n",
    "print(\"Sample Input:\", text_input[0]) \n",
    "print('Length of text_input:',len(text_input)) \n",
    "print(\"Sample Response: \", response_for_intent[intents[0]])\n"
   ]
  },
  {
   "cell_type": "markdown",
   "metadata": {},
   "source": [
    "Tokenizing and embedding"
   ]
  },
  {
   "cell_type": "code",
   "execution_count": null,
   "metadata": {},
   "outputs": [],
   "source": [
    "tokenizer = Tokenizer(filters=\"\",oov_token=\"<unk>\")"
   ]
  }
 ],
 "metadata": {
  "kernelspec": {
   "display_name": "Python 3",
   "language": "python",
   "name": "python3"
  },
  "language_info": {
   "codemirror_mode": {
    "name": "ipython",
    "version": 3
   },
   "file_extension": ".py",
   "mimetype": "text/x-python",
   "name": "python",
   "nbconvert_exporter": "python",
   "pygments_lexer": "ipython3",
   "version": "3.8.0"
  }
 },
 "nbformat": 4,
 "nbformat_minor": 2
}
